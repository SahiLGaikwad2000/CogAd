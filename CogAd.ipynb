{
  "nbformat": 4,
  "nbformat_minor": 0,
  "metadata": {
    "colab": {
      "name": "CogAd.ipynb",
      "provenance": [],
      "authorship_tag": "ABX9TyNTgPOGfwDajPoRDvV7hUb6",
      "include_colab_link": true
    },
    "kernelspec": {
      "name": "python3",
      "display_name": "Python 3"
    },
    "language_info": {
      "name": "python"
    }
  },
  "cells": [
    {
      "cell_type": "markdown",
      "metadata": {
        "id": "view-in-github",
        "colab_type": "text"
      },
      "source": [
        "<a href=\"https://colab.research.google.com/github/SahiLGaikwad2000/CogAd/blob/main/CogAd.ipynb\" target=\"_parent\"><img src=\"https://colab.research.google.com/assets/colab-badge.svg\" alt=\"Open In Colab\"/></a>"
      ]
    },
    {
      "cell_type": "code",
      "metadata": {
        "colab": {
          "base_uri": "https://localhost:8080/"
        },
        "id": "E4_z2ln_03p7",
        "outputId": "83f799da-38e4-4678-c5f7-2b70cbeb1f53"
      },
      "source": [
        "from tensorflow import keras\n",
        "import numpy as np\n",
        "model=keras.models.load_model(\"/content/sample_data/model/tf_model.h5\")\n",
        "input_data=[[0.1,0.2,0.7,0.0]]\n",
        "arr=np.array(input_data)\n",
        "predictions=model.predict(arr)\n",
        "print(predictions)\n"
      ],
      "execution_count": 4,
      "outputs": [
        {
          "output_type": "stream",
          "text": [
            "[[0.01315501]]\n"
          ],
          "name": "stdout"
        }
      ]
    }
  ]
}